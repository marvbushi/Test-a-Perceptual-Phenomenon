{
 "cells": [
  {
   "cell_type": "markdown",
   "metadata": {},
   "source": [
    "### Analyzing the Stroop Effect\n",
    "Perform the analysis in the space below. Remember to follow [the instructions](https://docs.google.com/document/d/1-OkpZLjG_kX9J6LIQ5IltsqMzVWjh36QpnP2RYpVdPU/pub?embedded=True) and review the [project rubric](https://review.udacity.com/#!/rubrics/71/view) before submitting. Once you've completed the analysis and write-up, download this file as a PDF or HTML file, upload that PDF/HTML into the workspace here (click on the orange Jupyter icon in the upper left then Upload), then use the Submit Project button at the bottom of this page. This will create a zip file containing both this .ipynb doc and the PDF/HTML doc that will be submitted for your project.\n"
   ]
  },
  {
   "cell_type": "markdown",
   "metadata": {},
   "source": [
    "Data Exploration to gain insight about the dataset we are dealing with"
   ]
  },
  {
   "cell_type": "code",
   "execution_count": 1,
   "metadata": {
    "ExecuteTime": {
     "end_time": "2018-11-08T19:38:31.437053Z",
     "start_time": "2018-11-08T19:38:29.762112Z"
    }
   },
   "outputs": [],
   "source": [
    "# PYTHON MODULES \n",
    "import pandas as pd\n",
    "import matplotlib.pyplot as plt\n",
    "import seaborn as sns\n",
    "import scipy.stats as stats\n",
    "\n",
    "%matplotlib inline"
   ]
  },
  {
   "cell_type": "code",
   "execution_count": 2,
   "metadata": {
    "ExecuteTime": {
     "end_time": "2018-11-08T19:38:31.507815Z",
     "start_time": "2018-11-08T19:38:31.440968Z"
    }
   },
   "outputs": [],
   "source": [
    "# LOAD, STORE DATASET IN stroop_df\n",
    "stroop_df = pd.read_csv('stroopdata.csv')"
   ]
  },
  {
   "cell_type": "code",
   "execution_count": 3,
   "metadata": {
    "ExecuteTime": {
     "end_time": "2018-11-08T19:38:31.536742Z",
     "start_time": "2018-11-08T19:38:31.510806Z"
    }
   },
   "outputs": [
    {
     "data": {
      "text/html": [
       "<div>\n",
       "<style scoped>\n",
       "    .dataframe tbody tr th:only-of-type {\n",
       "        vertical-align: middle;\n",
       "    }\n",
       "\n",
       "    .dataframe tbody tr th {\n",
       "        vertical-align: top;\n",
       "    }\n",
       "\n",
       "    .dataframe thead th {\n",
       "        text-align: right;\n",
       "    }\n",
       "</style>\n",
       "<table border=\"1\" class=\"dataframe\">\n",
       "  <thead>\n",
       "    <tr style=\"text-align: right;\">\n",
       "      <th></th>\n",
       "      <th>Congruent</th>\n",
       "      <th>Incongruent</th>\n",
       "    </tr>\n",
       "  </thead>\n",
       "  <tbody>\n",
       "    <tr>\n",
       "      <th>0</th>\n",
       "      <td>12.079</td>\n",
       "      <td>19.278</td>\n",
       "    </tr>\n",
       "    <tr>\n",
       "      <th>1</th>\n",
       "      <td>16.791</td>\n",
       "      <td>18.741</td>\n",
       "    </tr>\n",
       "    <tr>\n",
       "      <th>2</th>\n",
       "      <td>9.564</td>\n",
       "      <td>21.214</td>\n",
       "    </tr>\n",
       "    <tr>\n",
       "      <th>3</th>\n",
       "      <td>8.630</td>\n",
       "      <td>15.687</td>\n",
       "    </tr>\n",
       "    <tr>\n",
       "      <th>4</th>\n",
       "      <td>14.669</td>\n",
       "      <td>22.803</td>\n",
       "    </tr>\n",
       "  </tbody>\n",
       "</table>\n",
       "</div>"
      ],
      "text/plain": [
       "   Congruent  Incongruent\n",
       "0     12.079       19.278\n",
       "1     16.791       18.741\n",
       "2      9.564       21.214\n",
       "3      8.630       15.687\n",
       "4     14.669       22.803"
      ]
     },
     "execution_count": 3,
     "metadata": {},
     "output_type": "execute_result"
    }
   ],
   "source": [
    "# FIRST ROWS OF OUR DATA\n",
    "stroop_df.head()"
   ]
  },
  {
   "cell_type": "code",
   "execution_count": 4,
   "metadata": {
    "ExecuteTime": {
     "end_time": "2018-11-08T19:38:32.428454Z",
     "start_time": "2018-11-08T19:38:32.423333Z"
    }
   },
   "outputs": [
    {
     "data": {
      "text/plain": [
       "(24, 2)"
      ]
     },
     "execution_count": 4,
     "metadata": {},
     "output_type": "execute_result"
    }
   ],
   "source": [
    "# NUMBERS OF ROWS AND COLUMNS\n",
    "stroop_df.shape"
   ]
  },
  {
   "cell_type": "code",
   "execution_count": 5,
   "metadata": {
    "ExecuteTime": {
     "end_time": "2018-11-08T19:38:33.142442Z",
     "start_time": "2018-11-08T19:38:33.128448Z"
    }
   },
   "outputs": [
    {
     "name": "stdout",
     "output_type": "stream",
     "text": [
      "<class 'pandas.core.frame.DataFrame'>\n",
      "RangeIndex: 24 entries, 0 to 23\n",
      "Data columns (total 2 columns):\n",
      "Congruent      24 non-null float64\n",
      "Incongruent    24 non-null float64\n",
      "dtypes: float64(2)\n",
      "memory usage: 464.0 bytes\n"
     ]
    }
   ],
   "source": [
    "# VARIABLES TYPES \n",
    "stroop_df.info()"
   ]
  },
  {
   "cell_type": "code",
   "execution_count": 6,
   "metadata": {
    "ExecuteTime": {
     "end_time": "2018-11-08T19:38:33.941305Z",
     "start_time": "2018-11-08T19:38:33.935290Z"
    }
   },
   "outputs": [
    {
     "data": {
      "text/plain": [
       "0"
      ]
     },
     "execution_count": 6,
     "metadata": {},
     "output_type": "execute_result"
    }
   ],
   "source": [
    "# CHECK FOR DUPLICATED \n",
    "stroop_df.duplicated(keep='first').sum()"
   ]
  },
  {
   "cell_type": "code",
   "execution_count": 7,
   "metadata": {
    "ExecuteTime": {
     "end_time": "2018-11-08T19:38:34.575578Z",
     "start_time": "2018-11-08T19:38:34.569594Z"
    }
   },
   "outputs": [
    {
     "data": {
      "text/plain": [
       "Congruent      0\n",
       "Incongruent    0\n",
       "dtype: int64"
      ]
     },
     "execution_count": 7,
     "metadata": {},
     "output_type": "execute_result"
    }
   ],
   "source": [
    "# CHECK FOR NULL\n",
    "stroop_df.isnull().sum()"
   ]
  },
  {
   "cell_type": "raw",
   "metadata": {},
   "source": [
    "In the congruent words condition, the words being displayed are color words whose names match the colors in which they are printed: (e. RED wrotten in RED ink). \n",
    "\n",
    "In the incongruent words condition, the words displayed are color words whose names do not match the colors in which they are printed: (e. PURPLE wrotten in ORANGE ink)"
   ]
  },
  {
   "cell_type": "markdown",
   "metadata": {},
   "source": [
    "(1) What is the independent variable? What is the dependent variable?\n",
    "> Independent variable will be the type of test - congruent or incongruent\n",
    "\n",
    "> Dependent variable will be the time it takes candidates to responds"
   ]
  },
  {
   "cell_type": "markdown",
   "metadata": {},
   "source": [
    "(2) What is an appropriate set of hypotheses for this task? Specify your null and alternative hypotheses, and clearly define any notation used. Justify your choices."
   ]
  },
  {
   "cell_type": "markdown",
   "metadata": {},
   "source": [
    "Lets assume that we are dealing with a data that is normally distributed. We expect to perform a One Sample paired t-Test where each subject or entity is measured twice, resulting in pairs of observations.\n",
    "\n",
    "- Our sample size is less than 30 or n = 24 < 30.\n",
    "- Each subject or entity are asked to perform both task (congruent and incongruent)\n",
    "\n",
    "Our hypothesis will be:"
   ]
  },
  {
   "cell_type": "markdown",
   "metadata": {},
   "source": [
    "$$ H_0: t_{incongruent} = t_{congruent} $$"
   ]
  },
  {
   "cell_type": "markdown",
   "metadata": {},
   "source": [
    "$$ H_a: t_{incongruent} > t_{congruent} $$"
   ]
  },
  {
   "cell_type": "markdown",
   "metadata": {},
   "source": [
    "- The null hypothesis (H0) is that the mean of the population reaction time of the task under the incongruent words condition is not significantly different than that of the congruent words condition.\n",
    "\n",
    "- The alternative hypothesis (Ha) is that the mean of the population reaction time of the task under the incongruent words condition is significantly different that of the congruent words condition."
   ]
  },
  {
   "cell_type": "markdown",
   "metadata": {},
   "source": [
    "(3) Report some descriptive statistics regarding this dataset. Include at least one measure of central tendency and at least one measure of variability. The name of the data file is 'stroopdata.csv'."
   ]
  },
  {
   "cell_type": "code",
   "execution_count": 8,
   "metadata": {
    "ExecuteTime": {
     "end_time": "2018-11-08T19:38:39.947248Z",
     "start_time": "2018-11-08T19:38:39.921503Z"
    },
    "code_folding": []
   },
   "outputs": [
    {
     "data": {
      "text/html": [
       "<div>\n",
       "<style scoped>\n",
       "    .dataframe tbody tr th:only-of-type {\n",
       "        vertical-align: middle;\n",
       "    }\n",
       "\n",
       "    .dataframe tbody tr th {\n",
       "        vertical-align: top;\n",
       "    }\n",
       "\n",
       "    .dataframe thead th {\n",
       "        text-align: right;\n",
       "    }\n",
       "</style>\n",
       "<table border=\"1\" class=\"dataframe\">\n",
       "  <thead>\n",
       "    <tr style=\"text-align: right;\">\n",
       "      <th></th>\n",
       "      <th>Congruent</th>\n",
       "      <th>Incongruent</th>\n",
       "    </tr>\n",
       "  </thead>\n",
       "  <tbody>\n",
       "    <tr>\n",
       "      <th>count</th>\n",
       "      <td>24.000000</td>\n",
       "      <td>24.000000</td>\n",
       "    </tr>\n",
       "    <tr>\n",
       "      <th>mean</th>\n",
       "      <td>14.051125</td>\n",
       "      <td>22.015917</td>\n",
       "    </tr>\n",
       "    <tr>\n",
       "      <th>std</th>\n",
       "      <td>3.559358</td>\n",
       "      <td>4.797057</td>\n",
       "    </tr>\n",
       "    <tr>\n",
       "      <th>min</th>\n",
       "      <td>8.630000</td>\n",
       "      <td>15.687000</td>\n",
       "    </tr>\n",
       "    <tr>\n",
       "      <th>25%</th>\n",
       "      <td>11.895250</td>\n",
       "      <td>18.716750</td>\n",
       "    </tr>\n",
       "    <tr>\n",
       "      <th>50%</th>\n",
       "      <td>14.356500</td>\n",
       "      <td>21.017500</td>\n",
       "    </tr>\n",
       "    <tr>\n",
       "      <th>75%</th>\n",
       "      <td>16.200750</td>\n",
       "      <td>24.051500</td>\n",
       "    </tr>\n",
       "    <tr>\n",
       "      <th>max</th>\n",
       "      <td>22.328000</td>\n",
       "      <td>35.255000</td>\n",
       "    </tr>\n",
       "  </tbody>\n",
       "</table>\n",
       "</div>"
      ],
      "text/plain": [
       "       Congruent  Incongruent\n",
       "count  24.000000    24.000000\n",
       "mean   14.051125    22.015917\n",
       "std     3.559358     4.797057\n",
       "min     8.630000    15.687000\n",
       "25%    11.895250    18.716750\n",
       "50%    14.356500    21.017500\n",
       "75%    16.200750    24.051500\n",
       "max    22.328000    35.255000"
      ]
     },
     "execution_count": 8,
     "metadata": {},
     "output_type": "execute_result"
    }
   ],
   "source": [
    "# Perform the analysis here\n",
    "# STATS\n",
    "stroop_df.describe()"
   ]
  },
  {
   "cell_type": "markdown",
   "metadata": {},
   "source": [
    "> Congruent:\n",
    "- mean = 14.05\n",
    "- standard deviation = 3.55\n",
    "\n",
    "> Incongruent:\n",
    "- mean = 22.01\n",
    "- standard deviation = 4.797"
   ]
  },
  {
   "cell_type": "markdown",
   "metadata": {},
   "source": [
    "(4) Provide one or two visualizations that show the distribution of the sample data. Write one or two sentences noting what you observe about the plot or plots."
   ]
  },
  {
   "cell_type": "code",
   "execution_count": 11,
   "metadata": {
    "ExecuteTime": {
     "end_time": "2018-11-08T19:39:13.966463Z",
     "start_time": "2018-11-08T19:39:13.748013Z"
    }
   },
   "outputs": [
    {
     "data": {
      "image/png": "[encoded data removed]",
      "text/plain": [
       "<Figure size 432x288 with 1 Axes>"
      ]
     },
     "metadata": {},
     "output_type": "display_data"
    }
   ],
   "source": [
    "# Build the visualizations here\n",
    "# CONGURENT TASK\n",
    "sns.set_style('whitegrid')\n",
    "plt.hist(stroop_df['Congruent'], color='blue'); \n",
    "plt.title(\"Congruent condition\");\n",
    "plt.ylabel(\"Frequency\");"
   ]
  },
  {
   "cell_type": "code",
   "execution_count": 13,
   "metadata": {
    "ExecuteTime": {
     "end_time": "2018-11-08T19:40:09.735323Z",
     "start_time": "2018-11-08T19:40:09.537823Z"
    }
   },
   "outputs": [
    {
     "data": {
      "image/png": "[encoded data removed]",
      "text/plain": [
       "<Figure size 432x288 with 1 Axes>"
      ]
     },
     "metadata": {},
     "output_type": "display_data"
    }
   ],
   "source": [
    "# INCONGRUENT TASK\n",
    "sns.set_style('whitegrid')\n",
    "plt.hist(stroop_df['Incongruent'], color='blue'); \n",
    "plt.title(\"Incongruent condition\");\n",
    "plt.ylabel(\"Frequency\");"
   ]
  },
  {
   "cell_type": "code",
   "execution_count": 14,
   "metadata": {
    "ExecuteTime": {
     "end_time": "2018-11-08T19:40:22.387494Z",
     "start_time": "2018-11-08T19:40:22.214919Z"
    }
   },
   "outputs": [
    {
     "data": {
      "image/png": "[encoded data removed]",
      "text/plain": [
       "<Figure size 432x288 with 1 Axes>"
      ]
     },
     "metadata": {},
     "output_type": "display_data"
    }
   ],
   "source": [
    "# BOXPLOT\n",
    "sns.set_style('whitegrid')\n",
    "plt.boxplot((stroop_df['Congruent'],stroop_df['Incongruent']), labels=(\"Congruent\",\"Incongruent\"));\n",
    "plt.ylabel(\"Reaction time\");\n",
    "plt.title(\"Reaction time\");"
   ]
  },
  {
   "cell_type": "markdown",
   "metadata": {},
   "source": [
    "- There is a significantly different ranges.\n",
    "- There is a significantly different median.\n",
    "- The reaction time for the incongruent task seens right skewed.\n",
    "- The reaction time for the incongruent task appears with an outlier on the right."
   ]
  },
  {
   "cell_type": "markdown",
   "metadata": {},
   "source": [
    "(5)  Now, perform the statistical test and report your results. What is your confidence level or Type I error associated with your test? What is your conclusion regarding the hypotheses you set up? Did the results match up with your expectations? **Hint:**  Think about what is being measured on each individual, and what statistic best captures how an individual reacts in each environment."
   ]
  },
  {
   "cell_type": "code",
   "execution_count": 18,
   "metadata": {
    "ExecuteTime": {
     "end_time": "2018-11-08T19:56:18.765913Z",
     "start_time": "2018-11-08T19:56:18.759961Z"
    }
   },
   "outputs": [],
   "source": [
    "# Perform the statistical test here\n",
    "# TO DO\n",
    "# 1 - AVG OR MEAN FOR EACH TASK\n",
    "avg_congurent = stroop_df.Congruent.mean()\n",
    "avg_incongurant = stroop_df.Incongruent.mean()\n",
    "\n",
    "# 2 - MEAN DIFF\n",
    "avg_diff = avg_congurent - avg_incongurant\n",
    "\n",
    "# 3 - FIND SQUARE OF SUMS OF DIFF FOR SAMPLE MAEN\n",
    "square_s = sum( ( (stroop_df.Congruent - stroop_df.Incongruent) - avg_diff ) ** 2  )\n",
    "\n",
    "# 4 - FIND VARIANCE\n",
    "var_diff = square_s / stroop_df.shape[0] - 1\n",
    "\n",
    "# 5 - FIND STD\n",
    "square_s = var_diff ** (1/2)\n",
    "\n",
    "#  6 - T-STATISTICS\n",
    "tstatistic = avg_diff / ( square_s / ( 24 ** (1/2) ) )\n",
    "\n",
    "# 7 - FIND DEGREE 0F FREEDOM ROWS - 1\n",
    "df = stroop_df.shape[0] - 1\n",
    "\n",
    "# 8 - 99% conf level\n",
    "alpha = 0.005\n",
    "tcritical = stats.t.ppf(q=alpha, df=23)"
   ]
  },
  {
   "cell_type": "code",
   "execution_count": 19,
   "metadata": {
    "ExecuteTime": {
     "end_time": "2018-11-08T19:56:19.610685Z",
     "start_time": "2018-11-08T19:56:19.606665Z"
    }
   },
   "outputs": [
    {
     "name": "stdout",
     "output_type": "stream",
     "text": [
      "Degrees of Freedom :  23\n",
      "t-critical values :  2.8073356837675236 -2.8073356837675236\n",
      "t-Statistic :  -8.380039110954515\n"
     ]
    }
   ],
   "source": [
    "print(\"Degrees of Freedom : \", df)\n",
    "print(\"t-critical values : \", -tcritical, tcritical)\n",
    "print(\"t-Statistic : \", tstatistic)"
   ]
  },
  {
   "cell_type": "markdown",
   "metadata": {},
   "source": [
    "The calculated t-statistic is greater than the critical t-value, allowing to conclude that there is a statistically significant difference between the reaction time in the scores for both task. Therefore, we reject the null hypothesis with a 99% confident level.\n",
    "\n",
    "The results macthed up my expectations that there is a statistically significant difference in the scores for both tasks."
   ]
  },
  {
   "cell_type": "markdown",
   "metadata": {},
   "source": [
    "(6) Optional: What do you think is responsible for the effects observed? Can you think of an alternative or similar task that would result in a similar effect? Some research about the problem will be helpful for thinking about these two questions!"
   ]
  },
  {
   "cell_type": "markdown",
   "metadata": {},
   "source": [
    "Simply put, the Stroop effect shows how the brain processes words and colours differently. The uses of words on there own have a much stronger influence over a person's ability to say the colour. The interference that occurs between the different information received by the brain causes a conflict to occur.\n",
    "Below two theories abuot the stroop effect:\n",
    "- Speed of Processing Theory: the interference occurs because the brean reads faster than it recognizes colors.\n",
    "- Selective Attention Theory: the interference occurs because recognizing of colors requires more attention than reading words.\n",
    "\n",
    "Warped words. For example, the warped words Stroop effect produces the same findings similar to the original Stroop effect.The idea here is the way the words are printed slows down both the brain's reaction and processing time, making it harder to complete the task."
   ]
  }
 ],
 "metadata": {
  "kernelspec": {
   "display_name": "Python 3",
   "language": "python",
   "name": "python3"
  },
  "language_info": {
   "codemirror_mode": {
    "name": "ipython",
    "version": 3
   },
   "file_extension": ".py",
   "mimetype": "text/x-python",
   "name": "python",
   "nbconvert_exporter": "python",
   "pygments_lexer": "ipython3",
   "version": "3.6.5"
  }
 },
 "nbformat": 4,
 "nbformat_minor": 2
}
